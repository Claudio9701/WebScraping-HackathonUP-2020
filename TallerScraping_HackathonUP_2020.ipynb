{
  "nbformat": 4,
  "nbformat_minor": 0,
  "metadata": {
    "colab": {
      "name": "TallerScraping-HackathonUP-2020.ipynb",
      "provenance": [],
      "authorship_tag": "ABX9TyM3AlCit5+3/x4Z8SMJNVkh",
      "include_colab_link": true
    },
    "kernelspec": {
      "name": "python3",
      "display_name": "Python 3"
    }
  },
  "cells": [
    {
      "cell_type": "markdown",
      "metadata": {
        "id": "view-in-github",
        "colab_type": "text"
      },
      "source": [
        "<a href=\"https://colab.research.google.com/github/Claudio9701/WebScraping-HackathonUP-2020/blob/master/TallerScraping_HackathonUP_2020.ipynb\" target=\"_parent\"><img src=\"https://colab.research.google.com/assets/colab-badge.svg\" alt=\"Open In Colab\"/></a>"
      ]
    },
    {
      "cell_type": "markdown",
      "metadata": {
        "id": "bDwnPYeUbnLb",
        "colab_type": "text"
      },
      "source": [
        "![Hackathon UP title](https://www.up.edu.pe/UP_Landing/hackathon-up/img/titulo2.png)\n",
        "\n",
        "# **Taller**: Aprende a obtener datos de la web: scraping\n",
        "\n",
        "## ¿Qué vamos a ver en este taller?\n",
        "\n",
        "En este taller primero aprenderemos qué es Web Scraping y para qué nos puede servir. Luego, vamos a aprender a implementar un Web Scraper utilizando Python para extraer datos de la web.\n",
        "\n",
        "<table>\n",
        "<tr>\n",
        "<th> <h3>Seccion</h3> </th>\n",
        "<th> <h3>Partes</h3> </th>\n",
        "<th> <h3>Duracion</h3> </th>\n",
        "<th>  </th>\n",
        "</tr>\n",
        "<tr>\n",
        "  <td> <h3>Teoría</h3> </td>\n",
        "  <td> \n",
        "    <ol>\n",
        "      <li>¿Qué es Web Scraping?</li>\n",
        "      <li>¿Por qué y cuando aplicaríamos Web Scraping?</li>\n",
        "      <li>Precauciones a tener en cuenta</li>\n",
        "      <li>Recursos Adicionales</li>\n",
        "    </ol>\n",
        "  </td>\n",
        "  <td> <h3>45 m</h3> </td>\n",
        "  <td>\n",
        "    <img src=\"https://media.giphy.com/media/d1ltmm0EvCAQo/giphy.gif\" alt=\"Milhouse on Quarentine\" height=250px>\n",
        "  </td>\n",
        "</tr>\n",
        "<tr>\n",
        "  <td> <h3>Live Coding</h3> </td>\n",
        "  <td> \n",
        "    <ol>\n",
        "      <li>Identificación de datos</li>\n",
        "      <li>Recopilando la información necesaria</li>\n",
        "      <li>Disenando el Web Scraper</li>\n",
        "      <li>Implementación del Web Scraper</li>\n",
        "      <li>Pruebas de esquema de datos</li>\n",
        "    </ol>\n",
        "  </td>\n",
        "  <td> <h3>1 h 30 m</h3> </td>\n",
        "  <td>\n",
        "    <img src=\"https://media.giphy.com/media/LmNwrBhejkK9EFP504/giphy.gif\" alt=\"Cat Coder\" height=250px>\n",
        "  </td>\n",
        "</tr>\n",
        "</table>"
      ]
    },
    {
      "cell_type": "markdown",
      "metadata": {
        "id": "fhX74Tgvb0EE",
        "colab_type": "text"
      },
      "source": [
        "# Teoría\n",
        "\n",
        "## ¿Qué es Web Scraping?\n",
        "\n",
        "Web Scraping es una técnica en la cuál un programa de computadora **extrae datos** desde un sitio web. Dichos programas son llamados **Bots** o **Web crawlers**. Escencialmente se busca copiar datos de una web en una **base de datos** o una **hoja de cálculo**, para posteriormente visualizarlos o analizarlos.\n",
        "\n",
        "![Colatics Web Scraping Diagram](https://camo.githubusercontent.com/8ac742894c0c8c42c614220332741f7e9a6e80c6/68747470733a2f2f692e696d6775722e636f6d2f7a724d507452692e706e67)\n",
        "\n",
        "## ¿Por qué y cuándo aplicaríamos Web Scraping?\n",
        "\n",
        "- El principal motivo para utilizar Web Scraping es la necesidad de acceder a contenido **público** de la web, al cual no podemos acceder mediante una **API** (Application Programming Interface). \n",
        "\n",
        "![Table on Wikipedia Example](img/wikitables-ex.png)\n",
        "\n",
        "- Podemos aplicar Web Scraping cuando la página nos lo permita, para verificar el permiso podemos ver el archivo robots.txt de la página objetivo.\n",
        "\n",
        "![Wikipedia robots.txt Example](img/wikitables-ex.png)\n",
        "\n",
        "## Precauciones a tener en cuenta 🤗🤝\n",
        "\n",
        "- Debemos hacernos una idea de la capacidad de la web en la que vamos a realizar Web Scraping para tratar de no **desbordar sus servidores**. \n",
        "\n",
        "- Tambien es necesario que verifiquemos si hay algun dato sensible que debamos reportar/tratar de manera especial. \n",
        "\n",
        "- Entre otros...\n",
        "\n",
        "### ¿Tienen alguna pregunta?\n",
        "\n",
        "![Questions Puppies](https://media.giphy.com/media/XHVmD4RyXgSjd8aUMb/giphy.gif)\n",
        "\n",
        "\n",
        "### Recursos adicionales\n",
        "\n",
        "- [Apify](https://apify.com/)\n",
        "- [Datos Abiertos Gobierno Peruano](https://www.datosabiertos.gob.pe//)\n",
        "- [Conjuntos de datos humanitarios](https://competent-hopper-e1121e.netlify.app/)\n"
      ]
    },
    {
      "cell_type": "markdown",
      "metadata": {
        "id": "SZqmIEysj6uo",
        "colab_type": "text"
      },
      "source": [
        "# Live Coding - Caso 1: Wikipedia <img src=\"https://img.icons8.com/color/96/000000/wikipedia-logo.png\"/>"
      ]
    },
    {
      "cell_type": "markdown",
      "metadata": {
        "id": "Cu44QlBOtXdB",
        "colab_type": "text"
      },
      "source": [
        "## 1. Identificación de datos\n",
        "\n",
        "**Objetivo**: Quiero analizar la selección de Fútbol de Perú\n",
        "\n",
        "¡Ajá, puedo obtener datos de las tablas de Wikipedia! Para este ejemplo veamos la sección \"Últimos Convocados\"."
      ]
    },
    {
      "cell_type": "code",
      "metadata": {
        "id": "3w2i2NxOvyyC",
        "colab_type": "code",
        "colab": {}
      },
      "source": [
        "# Importamos las librerias\n",
        "import bs4 as bs\n",
        "import requests\n",
        "\n",
        "# Definamos la URL\n",
        "URL = \"https://es.wikipedia.org/wiki/Selecci%C3%B3n_de_f%C3%BAtbol_del_Per%C3%BA\"\n",
        "\n",
        "# Extraemos el codigo fuente (HTML)\n",
        "source = requests.get(URL).text\n",
        "soup = bs.BeautifulSoup(source,'lxml')"
      ],
      "execution_count": 16,
      "outputs": []
    },
    {
      "cell_type": "markdown",
      "metadata": {
        "id": "8DqAjsDJtmUN",
        "colab_type": "text"
      },
      "source": [
        "## 2. Recopilando la información necesaria\n",
        "\n",
        " - Revisemos el archivo robots.txt\n",
        " - **Inspeccionemos** la web"
      ]
    },
    {
      "cell_type": "code",
      "metadata": {
        "id": "XC6-guW3yiK0",
        "colab_type": "code",
        "colab": {
          "base_uri": "https://localhost:8080/",
          "height": 224
        },
        "outputId": "b50f60df-e8da-4876-c67c-c25ce65248f2"
      },
      "source": [
        "# title of the page\n",
        "print(soup.title, end='\\n\\n')\n",
        "\n",
        "# get attributes:\n",
        "print(soup.title.name, end='\\n\\n')\n",
        "\n",
        "# get values:\n",
        "print(soup.title.string, end='\\n\\n')\n",
        "\n",
        "# beginning navigation:\n",
        "print(soup.title.parent.name, end='\\n\\n')\n",
        "\n",
        "# getting specific values:\n",
        "print(soup.p, end='\\n\\n')"
      ],
      "execution_count": 20,
      "outputs": [
        {
          "output_type": "stream",
          "text": [
            "<title>Selección de fútbol del Perú - Wikipedia, la enciclopedia libre</title>\n",
            "\n",
            "title\n",
            "\n",
            "Selección de fútbol del Perú - Wikipedia, la enciclopedia libre\n",
            "\n",
            "head\n",
            "\n",
            "<p>La <b>selección de fútbol del <a href=\"/wiki/Per%C3%BA\" title=\"Perú\">Perú</a></b> es el equipo representativo de dicho país en las competiciones oficiales de <a href=\"/wiki/F%C3%BAtbol\" title=\"Fútbol\">fútbol</a> <a href=\"/wiki/Var%C3%B3n\" title=\"Varón\">masculino</a>. Su organización está a cargo de la <a href=\"/wiki/Federaci%C3%B3n_Peruana_de_F%C3%BAtbol\" title=\"Federación Peruana de Fútbol\">Federación Peruana de Fútbol</a> (FPF), la cual es una de las diez federaciones miembro de la <a href=\"/wiki/Confederaci%C3%B3n_Sudamericana_de_F%C3%BAtbol\" title=\"Confederación Sudamericana de Fútbol\">Confederación Sudamericana de Fútbol (Conmebol)</a>. Su debut se produjo el <a href=\"/wiki/1_de_noviembre\" title=\"1 de noviembre\">1 de noviembre</a> de <a href=\"/wiki/1927\" title=\"1927\">1927</a> ante la selección de <a href=\"/wiki/Selecci%C3%B3n_de_f%C3%BAtbol_de_Uruguay\" title=\"Selección de fútbol de Uruguay\">Uruguay</a> en el <a href=\"/wiki/Campeonato_Sudamericano_1927\" title=\"Campeonato Sudamericano 1927\">Campeonato Sudamericano</a> de aquel año. La selección peruana juega la gran mayoría de sus partidos de local en el <a href=\"/wiki/Estadio_Nacional_del_Per%C3%BA\" title=\"Estadio Nacional del Perú\">Estadio Nacional del Perú</a>, ubicado en la capital, <a href=\"/wiki/Lima\" title=\"Lima\">Lima</a>. \n",
            "</p>\n",
            "\n"
          ],
          "name": "stdout"
        }
      ]
    },
    {
      "cell_type": "markdown",
      "metadata": {
        "id": "tk8whlbJtnSi",
        "colab_type": "text"
      },
      "source": [
        "\n",
        "## 3. Disenando el Web Scraper\n",
        "\n",
        "1. Identifiquemos la tabla objetivo: \"Ultimos Convocaoddos\"\n",
        "2. Seleccionar la tabla objetivo - Tag name, XPath u otro\n",
        "3. Extraer nombres de columnas - Sólo **1** vez\n",
        "4. Extraer datos de cada fila - Iterar sobre las filas\n",
        "5. Guardar archivo en formato CSV (Comma Separated Values)\n"
      ]
    },
    {
      "cell_type": "markdown",
      "metadata": {
        "id": "RIFp8FRotoDM",
        "colab_type": "text"
      },
      "source": [
        "## 4. Implementación del Web Scraper\n"
      ]
    },
    {
      "cell_type": "code",
      "metadata": {
        "id": "Rhd6Aq9k10fd",
        "colab_type": "code",
        "colab": {}
      },
      "source": [
        "# XPath: /html/body/div[3]/div[3]/div[5]/div[1]/table[11]"
      ],
      "execution_count": null,
      "outputs": []
    },
    {
      "cell_type": "code",
      "metadata": {
        "id": "t-KWWvlK2Xpb",
        "colab_type": "code",
        "colab": {}
      },
      "source": [
        "tables = soup.find_all('table')"
      ],
      "execution_count": 27,
      "outputs": []
    },
    {
      "cell_type": "code",
      "metadata": {
        "id": "9f68YHUT2cR2",
        "colab_type": "code",
        "colab": {
          "base_uri": "https://localhost:8080/",
          "height": 34
        },
        "outputId": "fea53324-3009-4d31-defe-1e0a88b90985"
      },
      "source": [
        "len(tables)"
      ],
      "execution_count": 28,
      "outputs": [
        {
          "output_type": "execute_result",
          "data": {
            "text/plain": [
              "26"
            ]
          },
          "metadata": {
            "tags": []
          },
          "execution_count": 28
        }
      ]
    },
    {
      "cell_type": "code",
      "metadata": {
        "id": "LwAP6Kjg2fQp",
        "colab_type": "code",
        "colab": {
          "base_uri": "https://localhost:8080/",
          "height": 103
        },
        "outputId": "a8cefd1c-76d3-4228-e99f-70a832ad0bc2"
      },
      "source": [
        "tables[12].text"
      ],
      "execution_count": 38,
      "outputs": [
        {
          "output_type": "execute_result",
          "data": {
            "application/vnd.google.colaboratory.intrinsic+json": {
              "type": "string"
            },
            "text/plain": [
              "'\\n\\n\\n\\nNombre\\n\\nPos.\\n\\nEdad\\n\\nPJ\\n\\nGoles\\n\\nEquipo\\n\\nFormativo\\n\\n\\n1\\n\\nPedro Gallese\\n\\n\\n\\n30\\xa0años\\n\\n62\\n\\n-64\\n\\n Orlando City S.C.\\n\\n U. San Martín\\n\\n\\n12\\n\\nCarlos Cáceda\\n\\n\\n\\n28\\xa0años\\n\\n6\\n\\n -3\\n\\n F.B.C. Melgar\\n\\n Universitario\\n\\n\\n21\\n\\nPatricio Álvarez\\n\\n\\n\\n26\\xa0años\\n\\n0\\n\\n0\\n\\n Libre\\n\\n Universitario\\n\\n\\n2\\n\\nLuis Abram\\n\\n\\n\\n24\\xa0años\\n\\n20\\n\\n1\\n\\n Vélez Sarfield\\n\\n Regatas\\n\\n\\n3\\n\\nAldo Corzo\\n\\n\\n\\n31\\xa0años\\n\\n31\\n\\n0\\n\\n Universitario\\n\\n Regatas\\n\\n\\n4\\n\\nAnderson Santamaría\\n\\n\\n\\n28\\xa0años\\n\\n17\\n\\n0\\n\\n Atlas F.C.\\n\\n Deportivo Municipal\\n\\n\\n15\\n\\nCarlos Zambrano\\n\\n\\n\\n31\\xa0años\\n\\n50\\n\\n4\\n\\n Boca Juniors\\n\\n Schalke 04\\n\\n\\n6\\n\\nMiguel Trauco\\n\\n\\n\\n27 años\\n\\n50\\n\\n0\\n\\n A.S. Saint-Étienne\\n\\n Virgen de Chapi\\n\\n\\n15\\n\\nMarcos López\\n\\n\\n\\n20\\xa0años\\n\\n2\\n\\n0\\n\\n San Jose Earthquakes\\n\\n U. San Martín\\n\\n\\n17\\n\\nLuis Advíncula\\n\\n\\n\\n29 años\\n\\n89\\n\\n1\\n\\n Rayo Vallecano\\n\\n Esther Grande\\n\\n\\n22\\n\\nAlexander Callens\\n\\n\\n\\n28\\xa0años\\n\\n13\\n\\n1\\n\\n New York City F.C.\\n\\n Sport Boys\\n\\n\\n10\\n\\nSergio Peña\\n\\n\\n\\n24\\xa0años\\n\\n6\\n\\n0\\n\\n F.C. Emmen\\n\\n Alianza Lima\\n\\n\\n13\\n\\nRenato Tapia\\n\\n\\n\\n25\\xa0años\\n\\n53\\n\\n3\\n\\n Celta de Vigo\\n\\n Esther Grande\\n\\n\\n14\\n\\nCarlos Ascues\\n\\n\\n\\n28\\xa0años\\n\\n22\\n\\n5\\n\\n Alianza Lima\\n\\n Alianza Lima\\n\\n\\n16\\n\\nAlexis Arias\\n\\n\\n\\n23 años\\n\\n1\\n\\n0\\n\\n F.B.C. Melgar\\n\\n Sport Boys\\n\\n\\n19\\n\\nYoshimar Yotún\\n\\n\\n\\n30\\xa0años\\n\\n91\\n\\n3\\n\\n Cruz Azul\\n\\n Academia Cantolao\\n\\n\\n23\\n\\nPedro Aquino\\n\\n\\n\\n25\\xa0años\\n\\n20\\n\\n3\\n\\n Club León\\n\\n Sporting Cristal\\n\\n\\n24\\n\\nCristian Benavente\\n\\n\\n\\n26\\xa0años\\n\\n15\\n\\n2\\n\\n F. C. Nantes\\n\\n Real Madrid Castilla\\n\\n\\n7\\n\\nAndy Polo\\n\\n\\n\\n25\\xa0años\\n\\n19\\n\\n1\\n\\n Portland Timbers\\n\\n Universitario\\n\\n\\n8\\n\\nGabriel Costa\\n\\n\\n\\n30\\xa0años\\n\\n4\\n\\n0\\n\\n C.S.D. Colo-Colo\\n\\n River Plate\\n\\n\\n9\\n\\nPaolo Guerrero\\n\\n\\n\\n36\\xa0años\\n\\n101\\n\\n39\\n\\n S.C. Internacional\\n\\n Alianza Lima\\n\\n\\n11\\n\\nRaúl Ruidíaz\\n\\n\\n\\n30\\xa0años\\n\\n42\\n\\n4\\n\\n Seattle Sounders\\n\\n Universitario\\n\\n\\n20\\n\\nEdison Flores\\n\\n\\n\\n26\\xa0años\\n\\n51\\n\\n13\\n\\n D.C. United\\n\\n Universitario\\n\\n\\n-\\n\\n Ricardo Gareca\\n\\n\\n\\n62\\xa0años\\n\\n67 PD\\n\\n86 GF - 70 GC\\n\\n-\\n'"
            ]
          },
          "metadata": {
            "tags": []
          },
          "execution_count": 38
        }
      ]
    },
    {
      "cell_type": "code",
      "metadata": {
        "id": "Rf8MbZ4I2svR",
        "colab_type": "code",
        "colab": {}
      },
      "source": [
        "table_rows = tables[12].find_all('tr')"
      ],
      "execution_count": 39,
      "outputs": []
    },
    {
      "cell_type": "code",
      "metadata": {
        "id": "yTkOwyGt21a6",
        "colab_type": "code",
        "colab": {
          "base_uri": "https://localhost:8080/",
          "height": 34
        },
        "outputId": "1def9c62-5cff-43c5-c477-bdef0cc56daf"
      },
      "source": [
        "len(table_rows)"
      ],
      "execution_count": 40,
      "outputs": [
        {
          "output_type": "execute_result",
          "data": {
            "text/plain": [
              "25"
            ]
          },
          "metadata": {
            "tags": []
          },
          "execution_count": 40
        }
      ]
    },
    {
      "cell_type": "code",
      "metadata": {
        "id": "jScvXe4P3Oeu",
        "colab_type": "code",
        "colab": {
          "base_uri": "https://localhost:8080/",
          "height": 34
        },
        "outputId": "44cedbff-0c86-48ed-9927-cfa0d1158c17"
      },
      "source": [
        "column_names = [th.text.strip('\\n') for th in table_rows[0].find_all('th')]\n",
        "column_names"
      ],
      "execution_count": 47,
      "outputs": [
        {
          "output_type": "execute_result",
          "data": {
            "text/plain": [
              "['', 'Nombre', 'Pos.', 'Edad', 'PJ', 'Goles', 'Equipo', 'Formativo']"
            ]
          },
          "metadata": {
            "tags": []
          },
          "execution_count": 47
        }
      ]
    },
    {
      "cell_type": "code",
      "metadata": {
        "id": "7H4-O-3s5-A5",
        "colab_type": "code",
        "colab": {}
      },
      "source": [
        "column_names[0] = 'Num.'"
      ],
      "execution_count": 61,
      "outputs": []
    },
    {
      "cell_type": "code",
      "metadata": {
        "id": "n1zrG3Ds3_by",
        "colab_type": "code",
        "colab": {}
      },
      "source": [
        "# Extraer datos de la tabla\n",
        "data = []\n",
        "\n",
        "# Iterar sobre cada fila\n",
        "for tr in table_rows[1:-1]:\n",
        "  row_data = []\n",
        "\n",
        "  # Valor especial numero de camiseta\n",
        "  row_data.append(tr.find('th').text.strip('\\n')) \n",
        "\n",
        "  # Extraer los demas valores de la fila\n",
        "  for td in tr.find_all('td'):\n",
        "    row_data.append(td.text.strip('\\n'))\n",
        "\n",
        "  # Almacenar los datos de la fila\n",
        "  data.append(row_data)"
      ],
      "execution_count": 59,
      "outputs": []
    },
    {
      "cell_type": "code",
      "metadata": {
        "id": "1HCjenQ_5zW1",
        "colab_type": "code",
        "colab": {}
      },
      "source": [
        "# Creamos un DataFrame / Tabla de datos\n",
        "convocados_peru_df = pd.DataFrame(data, columns=column_names)"
      ],
      "execution_count": 65,
      "outputs": []
    },
    {
      "cell_type": "code",
      "metadata": {
        "id": "0PA_Ace46T6D",
        "colab_type": "code",
        "colab": {
          "base_uri": "https://localhost:8080/",
          "height": 762
        },
        "outputId": "c64e5b73-c3e6-41d2-dd1e-f84c82d5e457"
      },
      "source": [
        "# Veamos la tabla de datos extraídos\n",
        "convocados_peru_df"
      ],
      "execution_count": 66,
      "outputs": [
        {
          "output_type": "execute_result",
          "data": {
            "text/html": [
              "<div>\n",
              "<style scoped>\n",
              "    .dataframe tbody tr th:only-of-type {\n",
              "        vertical-align: middle;\n",
              "    }\n",
              "\n",
              "    .dataframe tbody tr th {\n",
              "        vertical-align: top;\n",
              "    }\n",
              "\n",
              "    .dataframe thead th {\n",
              "        text-align: right;\n",
              "    }\n",
              "</style>\n",
              "<table border=\"1\" class=\"dataframe\">\n",
              "  <thead>\n",
              "    <tr style=\"text-align: right;\">\n",
              "      <th></th>\n",
              "      <th>Num.</th>\n",
              "      <th>Nombre</th>\n",
              "      <th>Pos.</th>\n",
              "      <th>Edad</th>\n",
              "      <th>PJ</th>\n",
              "      <th>Goles</th>\n",
              "      <th>Equipo</th>\n",
              "      <th>Formativo</th>\n",
              "    </tr>\n",
              "  </thead>\n",
              "  <tbody>\n",
              "    <tr>\n",
              "      <th>0</th>\n",
              "      <td>1</td>\n",
              "      <td>Pedro Gallese</td>\n",
              "      <td></td>\n",
              "      <td>30 años</td>\n",
              "      <td>62</td>\n",
              "      <td>-64</td>\n",
              "      <td>Orlando City S.C.</td>\n",
              "      <td>U. San Martín</td>\n",
              "    </tr>\n",
              "    <tr>\n",
              "      <th>1</th>\n",
              "      <td>12</td>\n",
              "      <td>Carlos Cáceda</td>\n",
              "      <td></td>\n",
              "      <td>28 años</td>\n",
              "      <td>6</td>\n",
              "      <td>-3</td>\n",
              "      <td>F.B.C. Melgar</td>\n",
              "      <td>Universitario</td>\n",
              "    </tr>\n",
              "    <tr>\n",
              "      <th>2</th>\n",
              "      <td>21</td>\n",
              "      <td>Patricio Álvarez</td>\n",
              "      <td></td>\n",
              "      <td>26 años</td>\n",
              "      <td>0</td>\n",
              "      <td>0</td>\n",
              "      <td>Libre</td>\n",
              "      <td>Universitario</td>\n",
              "    </tr>\n",
              "    <tr>\n",
              "      <th>3</th>\n",
              "      <td>2</td>\n",
              "      <td>Luis Abram</td>\n",
              "      <td></td>\n",
              "      <td>24 años</td>\n",
              "      <td>20</td>\n",
              "      <td>1</td>\n",
              "      <td>Vélez Sarfield</td>\n",
              "      <td>Regatas</td>\n",
              "    </tr>\n",
              "    <tr>\n",
              "      <th>4</th>\n",
              "      <td>3</td>\n",
              "      <td>Aldo Corzo</td>\n",
              "      <td></td>\n",
              "      <td>31 años</td>\n",
              "      <td>31</td>\n",
              "      <td>0</td>\n",
              "      <td>Universitario</td>\n",
              "      <td>Regatas</td>\n",
              "    </tr>\n",
              "    <tr>\n",
              "      <th>5</th>\n",
              "      <td>4</td>\n",
              "      <td>Anderson Santamaría</td>\n",
              "      <td></td>\n",
              "      <td>28 años</td>\n",
              "      <td>17</td>\n",
              "      <td>0</td>\n",
              "      <td>Atlas F.C.</td>\n",
              "      <td>Deportivo Municipal</td>\n",
              "    </tr>\n",
              "    <tr>\n",
              "      <th>6</th>\n",
              "      <td>15</td>\n",
              "      <td>Carlos Zambrano</td>\n",
              "      <td></td>\n",
              "      <td>31 años</td>\n",
              "      <td>50</td>\n",
              "      <td>4</td>\n",
              "      <td>Boca Juniors</td>\n",
              "      <td>Schalke 04</td>\n",
              "    </tr>\n",
              "    <tr>\n",
              "      <th>7</th>\n",
              "      <td>6</td>\n",
              "      <td>Miguel Trauco</td>\n",
              "      <td></td>\n",
              "      <td>27 años</td>\n",
              "      <td>50</td>\n",
              "      <td>0</td>\n",
              "      <td>A.S. Saint-Étienne</td>\n",
              "      <td>Virgen de Chapi</td>\n",
              "    </tr>\n",
              "    <tr>\n",
              "      <th>8</th>\n",
              "      <td>15</td>\n",
              "      <td>Marcos López</td>\n",
              "      <td></td>\n",
              "      <td>20 años</td>\n",
              "      <td>2</td>\n",
              "      <td>0</td>\n",
              "      <td>San Jose Earthquakes</td>\n",
              "      <td>U. San Martín</td>\n",
              "    </tr>\n",
              "    <tr>\n",
              "      <th>9</th>\n",
              "      <td>17</td>\n",
              "      <td>Luis Advíncula</td>\n",
              "      <td></td>\n",
              "      <td>29 años</td>\n",
              "      <td>89</td>\n",
              "      <td>1</td>\n",
              "      <td>Rayo Vallecano</td>\n",
              "      <td>Esther Grande</td>\n",
              "    </tr>\n",
              "    <tr>\n",
              "      <th>10</th>\n",
              "      <td>22</td>\n",
              "      <td>Alexander Callens</td>\n",
              "      <td></td>\n",
              "      <td>28 años</td>\n",
              "      <td>13</td>\n",
              "      <td>1</td>\n",
              "      <td>New York City F.C.</td>\n",
              "      <td>Sport Boys</td>\n",
              "    </tr>\n",
              "    <tr>\n",
              "      <th>11</th>\n",
              "      <td>10</td>\n",
              "      <td>Sergio Peña</td>\n",
              "      <td></td>\n",
              "      <td>24 años</td>\n",
              "      <td>6</td>\n",
              "      <td>0</td>\n",
              "      <td>F.C. Emmen</td>\n",
              "      <td>Alianza Lima</td>\n",
              "    </tr>\n",
              "    <tr>\n",
              "      <th>12</th>\n",
              "      <td>13</td>\n",
              "      <td>Renato Tapia</td>\n",
              "      <td></td>\n",
              "      <td>25 años</td>\n",
              "      <td>53</td>\n",
              "      <td>3</td>\n",
              "      <td>Celta de Vigo</td>\n",
              "      <td>Esther Grande</td>\n",
              "    </tr>\n",
              "    <tr>\n",
              "      <th>13</th>\n",
              "      <td>14</td>\n",
              "      <td>Carlos Ascues</td>\n",
              "      <td></td>\n",
              "      <td>28 años</td>\n",
              "      <td>22</td>\n",
              "      <td>5</td>\n",
              "      <td>Alianza Lima</td>\n",
              "      <td>Alianza Lima</td>\n",
              "    </tr>\n",
              "    <tr>\n",
              "      <th>14</th>\n",
              "      <td>16</td>\n",
              "      <td>Alexis Arias</td>\n",
              "      <td></td>\n",
              "      <td>23 años</td>\n",
              "      <td>1</td>\n",
              "      <td>0</td>\n",
              "      <td>F.B.C. Melgar</td>\n",
              "      <td>Sport Boys</td>\n",
              "    </tr>\n",
              "    <tr>\n",
              "      <th>15</th>\n",
              "      <td>19</td>\n",
              "      <td>Yoshimar Yotún</td>\n",
              "      <td></td>\n",
              "      <td>30 años</td>\n",
              "      <td>91</td>\n",
              "      <td>3</td>\n",
              "      <td>Cruz Azul</td>\n",
              "      <td>Academia Cantolao</td>\n",
              "    </tr>\n",
              "    <tr>\n",
              "      <th>16</th>\n",
              "      <td>23</td>\n",
              "      <td>Pedro Aquino</td>\n",
              "      <td></td>\n",
              "      <td>25 años</td>\n",
              "      <td>20</td>\n",
              "      <td>3</td>\n",
              "      <td>Club León</td>\n",
              "      <td>Sporting Cristal</td>\n",
              "    </tr>\n",
              "    <tr>\n",
              "      <th>17</th>\n",
              "      <td>24</td>\n",
              "      <td>Cristian Benavente</td>\n",
              "      <td></td>\n",
              "      <td>26 años</td>\n",
              "      <td>15</td>\n",
              "      <td>2</td>\n",
              "      <td>F. C. Nantes</td>\n",
              "      <td>Real Madrid Castilla</td>\n",
              "    </tr>\n",
              "    <tr>\n",
              "      <th>18</th>\n",
              "      <td>7</td>\n",
              "      <td>Andy Polo</td>\n",
              "      <td></td>\n",
              "      <td>25 años</td>\n",
              "      <td>19</td>\n",
              "      <td>1</td>\n",
              "      <td>Portland Timbers</td>\n",
              "      <td>Universitario</td>\n",
              "    </tr>\n",
              "    <tr>\n",
              "      <th>19</th>\n",
              "      <td>8</td>\n",
              "      <td>Gabriel Costa</td>\n",
              "      <td></td>\n",
              "      <td>30 años</td>\n",
              "      <td>4</td>\n",
              "      <td>0</td>\n",
              "      <td>C.S.D. Colo-Colo</td>\n",
              "      <td>River Plate</td>\n",
              "    </tr>\n",
              "    <tr>\n",
              "      <th>20</th>\n",
              "      <td>9</td>\n",
              "      <td>Paolo Guerrero</td>\n",
              "      <td></td>\n",
              "      <td>36 años</td>\n",
              "      <td>101</td>\n",
              "      <td>39</td>\n",
              "      <td>S.C. Internacional</td>\n",
              "      <td>Alianza Lima</td>\n",
              "    </tr>\n",
              "    <tr>\n",
              "      <th>21</th>\n",
              "      <td>11</td>\n",
              "      <td>Raúl Ruidíaz</td>\n",
              "      <td></td>\n",
              "      <td>30 años</td>\n",
              "      <td>42</td>\n",
              "      <td>4</td>\n",
              "      <td>Seattle Sounders</td>\n",
              "      <td>Universitario</td>\n",
              "    </tr>\n",
              "    <tr>\n",
              "      <th>22</th>\n",
              "      <td>20</td>\n",
              "      <td>Edison Flores</td>\n",
              "      <td></td>\n",
              "      <td>26 años</td>\n",
              "      <td>51</td>\n",
              "      <td>13</td>\n",
              "      <td>D.C. United</td>\n",
              "      <td>Universitario</td>\n",
              "    </tr>\n",
              "  </tbody>\n",
              "</table>\n",
              "</div>"
            ],
            "text/plain": [
              "   Num.               Nombre  ...                 Equipo              Formativo\n",
              "0     1        Pedro Gallese  ...      Orlando City S.C.          U. San Martín\n",
              "1    12        Carlos Cáceda  ...          F.B.C. Melgar          Universitario\n",
              "2    21     Patricio Álvarez  ...                  Libre          Universitario\n",
              "3     2           Luis Abram  ...         Vélez Sarfield                Regatas\n",
              "4     3           Aldo Corzo  ...          Universitario                Regatas\n",
              "5     4  Anderson Santamaría  ...             Atlas F.C.    Deportivo Municipal\n",
              "6    15      Carlos Zambrano  ...           Boca Juniors             Schalke 04\n",
              "7     6        Miguel Trauco  ...     A.S. Saint-Étienne        Virgen de Chapi\n",
              "8    15         Marcos López  ...   San Jose Earthquakes          U. San Martín\n",
              "9    17       Luis Advíncula  ...         Rayo Vallecano          Esther Grande\n",
              "10   22    Alexander Callens  ...     New York City F.C.             Sport Boys\n",
              "11   10          Sergio Peña  ...             F.C. Emmen           Alianza Lima\n",
              "12   13         Renato Tapia  ...          Celta de Vigo          Esther Grande\n",
              "13   14        Carlos Ascues  ...           Alianza Lima           Alianza Lima\n",
              "14   16         Alexis Arias  ...          F.B.C. Melgar             Sport Boys\n",
              "15   19       Yoshimar Yotún  ...              Cruz Azul      Academia Cantolao\n",
              "16   23         Pedro Aquino  ...              Club León       Sporting Cristal\n",
              "17   24   Cristian Benavente  ...           F. C. Nantes   Real Madrid Castilla\n",
              "18    7            Andy Polo  ...       Portland Timbers          Universitario\n",
              "19    8        Gabriel Costa  ...       C.S.D. Colo-Colo            River Plate\n",
              "20    9       Paolo Guerrero  ...     S.C. Internacional           Alianza Lima\n",
              "21   11         Raúl Ruidíaz  ...       Seattle Sounders          Universitario\n",
              "22   20        Edison Flores  ...            D.C. United          Universitario\n",
              "\n",
              "[23 rows x 8 columns]"
            ]
          },
          "metadata": {
            "tags": []
          },
          "execution_count": 66
        }
      ]
    },
    {
      "cell_type": "code",
      "metadata": {
        "id": "SZepHETb8gY_",
        "colab_type": "code",
        "colab": {}
      },
      "source": [
        "# Grabamos el archivo CSV dentro de Colab\n",
        "convocados_peru_df.to_csv('convocados_peru.csv')"
      ],
      "execution_count": 68,
      "outputs": []
    },
    {
      "cell_type": "code",
      "metadata": {
        "id": "u6kv9_gB8vqp",
        "colab_type": "code",
        "colab": {
          "base_uri": "https://localhost:8080/",
          "height": 17
        },
        "outputId": "4dbead1c-9aff-4ac3-bb43-7b1898ef816b"
      },
      "source": [
        "# Descargamos el archivo en nuestra PC\n",
        "files.download('convocados_peru.csv')"
      ],
      "execution_count": 74,
      "outputs": [
        {
          "output_type": "display_data",
          "data": {
            "application/javascript": [
              "\n",
              "    async function download(id, filename, size) {\n",
              "      if (!google.colab.kernel.accessAllowed) {\n",
              "        return;\n",
              "      }\n",
              "      const div = document.createElement('div');\n",
              "      const label = document.createElement('label');\n",
              "      label.textContent = `Downloading \"${filename}\": `;\n",
              "      div.appendChild(label);\n",
              "      const progress = document.createElement('progress');\n",
              "      progress.max = size;\n",
              "      div.appendChild(progress);\n",
              "      document.body.appendChild(div);\n",
              "\n",
              "      const buffers = [];\n",
              "      let downloaded = 0;\n",
              "\n",
              "      const channel = await google.colab.kernel.comms.open(id);\n",
              "      // Send a message to notify the kernel that we're ready.\n",
              "      channel.send({})\n",
              "\n",
              "      for await (const message of channel.messages) {\n",
              "        // Send a message to notify the kernel that we're ready.\n",
              "        channel.send({})\n",
              "        if (message.buffers) {\n",
              "          for (const buffer of message.buffers) {\n",
              "            buffers.push(buffer);\n",
              "            downloaded += buffer.byteLength;\n",
              "            progress.value = downloaded;\n",
              "          }\n",
              "        }\n",
              "      }\n",
              "      const blob = new Blob(buffers, {type: 'application/binary'});\n",
              "      const a = document.createElement('a');\n",
              "      a.href = window.URL.createObjectURL(blob);\n",
              "      a.download = filename;\n",
              "      div.appendChild(a);\n",
              "      a.click();\n",
              "      div.remove();\n",
              "    }\n",
              "  "
            ],
            "text/plain": [
              "<IPython.core.display.Javascript object>"
            ]
          },
          "metadata": {
            "tags": []
          }
        },
        {
          "output_type": "display_data",
          "data": {
            "application/javascript": [
              "download(\"download_003ebfae-9807-4353-87d8-f987ab4ced3c\", \"convocados_peru.csv\", 1573)"
            ],
            "text/plain": [
              "<IPython.core.display.Javascript object>"
            ]
          },
          "metadata": {
            "tags": []
          }
        }
      ]
    },
    {
      "cell_type": "markdown",
      "metadata": {
        "id": "GhZn89pdtopO",
        "colab_type": "text"
      },
      "source": [
        "## 5. Pruebas de esquema de datos"
      ]
    },
    {
      "cell_type": "markdown",
      "metadata": {
        "colab_type": "text",
        "id": "_Mc_0bWT7Ioh"
      },
      "source": [
        "# Live Coding - Caso 2: ¡Elijamos nosotros!\n",
        "\n",
        "![Areas Hackathon UP](img/areas-hackathon.png)"
      ]
    },
    {
      "cell_type": "markdown",
      "metadata": {
        "id": "EMPPocQ2-28o",
        "colab_type": "text"
      },
      "source": [
        "### Recursos Adicionales de Beautiful Soup 4\n",
        "\n",
        "- [Web scraping and parsing with Beautiful Soup 4](https://pythonprogramming.net/introduction-scraping-parsing-beautiful-soup-tutorial/)\n",
        "- [Beautiful Soup Documentation¶](https://www.crummy.com/software/BeautifulSoup/bs4/doc/)"
      ]
    },
    {
      "cell_type": "code",
      "metadata": {
        "id": "7CH1GQqf-7nT",
        "colab_type": "code",
        "colab": {}
      },
      "source": [
        ""
      ],
      "execution_count": null,
      "outputs": []
    }
  ]
}